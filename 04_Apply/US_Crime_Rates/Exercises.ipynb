{
 "cells": [
  {
   "cell_type": "markdown",
   "metadata": {},
   "source": [
    "# United States - Crime Rates - 1960 - 2014"
   ]
  },
  {
   "cell_type": "markdown",
   "metadata": {},
   "source": [
    "### Introduction:\n",
    "\n",
    "This time you will create a data \n",
    "\n",
    "Special thanks to: https://github.com/justmarkham for sharing the dataset and materials.\n",
    "\n",
    "### Step 1. Import the necessary libraries"
   ]
  },
  {
   "cell_type": "code",
   "execution_count": 12,
   "metadata": {},
   "outputs": [],
   "source": [
    "import pandas as pd\n",
    "import numpy as np"
   ]
  },
  {
   "cell_type": "markdown",
   "metadata": {},
   "source": [
    "### Step 2. Import the dataset from this [address](https://raw.githubusercontent.com/guipsamora/pandas_exercises/master/04_Apply/US_Crime_Rates/US_Crime_Rates_1960_2014.csv). "
   ]
  },
  {
   "cell_type": "markdown",
   "metadata": {},
   "source": [
    "### Step 3. Assign it to a variable called crime."
   ]
  },
  {
   "cell_type": "code",
   "execution_count": 13,
   "metadata": {},
   "outputs": [
    {
     "data": {
      "text/html": [
       "<div>\n",
       "<style scoped>\n",
       "    .dataframe tbody tr th:only-of-type {\n",
       "        vertical-align: middle;\n",
       "    }\n",
       "\n",
       "    .dataframe tbody tr th {\n",
       "        vertical-align: top;\n",
       "    }\n",
       "\n",
       "    .dataframe thead th {\n",
       "        text-align: right;\n",
       "    }\n",
       "</style>\n",
       "<table border=\"1\" class=\"dataframe\">\n",
       "  <thead>\n",
       "    <tr style=\"text-align: right;\">\n",
       "      <th></th>\n",
       "      <th>Year</th>\n",
       "      <th>Population</th>\n",
       "      <th>Total</th>\n",
       "      <th>Violent</th>\n",
       "      <th>Property</th>\n",
       "      <th>Murder</th>\n",
       "      <th>Forcible_Rape</th>\n",
       "      <th>Robbery</th>\n",
       "      <th>Aggravated_assault</th>\n",
       "      <th>Burglary</th>\n",
       "      <th>Larceny_Theft</th>\n",
       "      <th>Vehicle_Theft</th>\n",
       "    </tr>\n",
       "  </thead>\n",
       "  <tbody>\n",
       "    <tr>\n",
       "      <th>0</th>\n",
       "      <td>1960</td>\n",
       "      <td>179323175</td>\n",
       "      <td>3384200</td>\n",
       "      <td>288460</td>\n",
       "      <td>3095700</td>\n",
       "      <td>9110</td>\n",
       "      <td>17190</td>\n",
       "      <td>107840</td>\n",
       "      <td>154320</td>\n",
       "      <td>912100</td>\n",
       "      <td>1855400</td>\n",
       "      <td>328200</td>\n",
       "    </tr>\n",
       "    <tr>\n",
       "      <th>1</th>\n",
       "      <td>1961</td>\n",
       "      <td>182992000</td>\n",
       "      <td>3488000</td>\n",
       "      <td>289390</td>\n",
       "      <td>3198600</td>\n",
       "      <td>8740</td>\n",
       "      <td>17220</td>\n",
       "      <td>106670</td>\n",
       "      <td>156760</td>\n",
       "      <td>949600</td>\n",
       "      <td>1913000</td>\n",
       "      <td>336000</td>\n",
       "    </tr>\n",
       "    <tr>\n",
       "      <th>2</th>\n",
       "      <td>1962</td>\n",
       "      <td>185771000</td>\n",
       "      <td>3752200</td>\n",
       "      <td>301510</td>\n",
       "      <td>3450700</td>\n",
       "      <td>8530</td>\n",
       "      <td>17550</td>\n",
       "      <td>110860</td>\n",
       "      <td>164570</td>\n",
       "      <td>994300</td>\n",
       "      <td>2089600</td>\n",
       "      <td>366800</td>\n",
       "    </tr>\n",
       "    <tr>\n",
       "      <th>3</th>\n",
       "      <td>1963</td>\n",
       "      <td>188483000</td>\n",
       "      <td>4109500</td>\n",
       "      <td>316970</td>\n",
       "      <td>3792500</td>\n",
       "      <td>8640</td>\n",
       "      <td>17650</td>\n",
       "      <td>116470</td>\n",
       "      <td>174210</td>\n",
       "      <td>1086400</td>\n",
       "      <td>2297800</td>\n",
       "      <td>408300</td>\n",
       "    </tr>\n",
       "    <tr>\n",
       "      <th>4</th>\n",
       "      <td>1964</td>\n",
       "      <td>191141000</td>\n",
       "      <td>4564600</td>\n",
       "      <td>364220</td>\n",
       "      <td>4200400</td>\n",
       "      <td>9360</td>\n",
       "      <td>21420</td>\n",
       "      <td>130390</td>\n",
       "      <td>203050</td>\n",
       "      <td>1213200</td>\n",
       "      <td>2514400</td>\n",
       "      <td>472800</td>\n",
       "    </tr>\n",
       "  </tbody>\n",
       "</table>\n",
       "</div>"
      ],
      "text/plain": [
       "   Year  Population    Total  Violent  Property  Murder  Forcible_Rape  \\\n",
       "0  1960   179323175  3384200   288460   3095700    9110          17190   \n",
       "1  1961   182992000  3488000   289390   3198600    8740          17220   \n",
       "2  1962   185771000  3752200   301510   3450700    8530          17550   \n",
       "3  1963   188483000  4109500   316970   3792500    8640          17650   \n",
       "4  1964   191141000  4564600   364220   4200400    9360          21420   \n",
       "\n",
       "   Robbery  Aggravated_assault  Burglary  Larceny_Theft  Vehicle_Theft  \n",
       "0   107840              154320    912100        1855400         328200  \n",
       "1   106670              156760    949600        1913000         336000  \n",
       "2   110860              164570    994300        2089600         366800  \n",
       "3   116470              174210   1086400        2297800         408300  \n",
       "4   130390              203050   1213200        2514400         472800  "
      ]
     },
     "execution_count": 13,
     "metadata": {},
     "output_type": "execute_result"
    }
   ],
   "source": [
    "crime=pd.read_csv('C:/Users/GH-16/OneDrive/Documents/GitHub/pandas_exercises/04_Apply/US_Crime_Rates/US_Crime_Rates_1960_2014.csv')\n",
    "crime.head()"
   ]
  },
  {
   "cell_type": "markdown",
   "metadata": {},
   "source": [
    "### Step 4. What is the type of the columns?"
   ]
  },
  {
   "cell_type": "code",
   "execution_count": 14,
   "metadata": {},
   "outputs": [
    {
     "data": {
      "text/plain": [
       "Year                  int64\n",
       "Population            int64\n",
       "Total                 int64\n",
       "Violent               int64\n",
       "Property              int64\n",
       "Murder                int64\n",
       "Forcible_Rape         int64\n",
       "Robbery               int64\n",
       "Aggravated_assault    int64\n",
       "Burglary              int64\n",
       "Larceny_Theft         int64\n",
       "Vehicle_Theft         int64\n",
       "dtype: object"
      ]
     },
     "execution_count": 14,
     "metadata": {},
     "output_type": "execute_result"
    }
   ],
   "source": [
    "crime.dtypes"
   ]
  },
  {
   "cell_type": "markdown",
   "metadata": {},
   "source": [
    "##### Have you noticed that the type of Year is int64. But pandas has a different type to work with Time Series. Let's see it now.\n",
    "\n",
    "### Step 5. Convert the type of the column Year to datetime64"
   ]
  },
  {
   "cell_type": "code",
   "execution_count": 19,
   "metadata": {},
   "outputs": [
    {
     "name": "stdout",
     "output_type": "stream",
     "text": [
      "0    1960-01-01\n",
      "1    1961-01-01\n",
      "2    1962-01-01\n",
      "3    1963-01-01\n",
      "4    1964-01-01\n",
      "5    1965-01-01\n",
      "6    1966-01-01\n",
      "7    1967-01-01\n",
      "8    1968-01-01\n",
      "9    1969-01-01\n",
      "10   1970-01-01\n",
      "11   1971-01-01\n",
      "12   1972-01-01\n",
      "13   1973-01-01\n",
      "14   1974-01-01\n",
      "15   1975-01-01\n",
      "16   1976-01-01\n",
      "17   1977-01-01\n",
      "18   1978-01-01\n",
      "19   1979-01-01\n",
      "20   1980-01-01\n",
      "21   1981-01-01\n",
      "22   1982-01-01\n",
      "23   1983-01-01\n",
      "24   1984-01-01\n",
      "25   1985-01-01\n",
      "26   1986-01-01\n",
      "27   1987-01-01\n",
      "28   1988-01-01\n",
      "29   1989-01-01\n",
      "30   1990-01-01\n",
      "31   1991-01-01\n",
      "32   1992-01-01\n",
      "33   1993-01-01\n",
      "34   1994-01-01\n",
      "35   1995-01-01\n",
      "36   1996-01-01\n",
      "37   1997-01-01\n",
      "38   1998-01-01\n",
      "39   1999-01-01\n",
      "40   2000-01-01\n",
      "41   2001-01-01\n",
      "42   2002-01-01\n",
      "43   2003-01-01\n",
      "44   2004-01-01\n",
      "45   2005-01-01\n",
      "46   2006-01-01\n",
      "47   2007-01-01\n",
      "48   2008-01-01\n",
      "49   2009-01-01\n",
      "50   2010-01-01\n",
      "51   2011-01-01\n",
      "52   2012-01-01\n",
      "53   2013-01-01\n",
      "54   2014-01-01\n",
      "Name: Year, dtype: datetime64[ns]\n"
     ]
    }
   ],
   "source": [
    "datetime= lambda x:np.datetime64(str(x),'Y')\n",
    "crime['Year']=crime['Year'].apply(datetime)\n",
    "print(crime['Year'])"
   ]
  },
  {
   "cell_type": "markdown",
   "metadata": {},
   "source": [
    "### Step 6. Set the Year column as the index of the dataframe"
   ]
  },
  {
   "cell_type": "code",
   "execution_count": 21,
   "metadata": {},
   "outputs": [],
   "source": [
    "crime.set_index('Year',inplace=True)"
   ]
  },
  {
   "cell_type": "markdown",
   "metadata": {},
   "source": [
    "### Step 7. Delete the Total column"
   ]
  },
  {
   "cell_type": "code",
   "execution_count": 24,
   "metadata": {},
   "outputs": [],
   "source": [
    "crime.drop(columns='Total',inplace=True)"
   ]
  },
  {
   "cell_type": "markdown",
   "metadata": {},
   "source": [
    "### Step 8. Group the year by decades and sum the values\n",
    "\n",
    "#### Pay attention to the Population column number, summing this column is a mistake"
   ]
  },
  {
   "cell_type": "code",
   "execution_count": 31,
   "metadata": {
    "scrolled": true
   },
   "outputs": [
    {
     "data": {
      "text/html": [
       "<div>\n",
       "<style scoped>\n",
       "    .dataframe tbody tr th:only-of-type {\n",
       "        vertical-align: middle;\n",
       "    }\n",
       "\n",
       "    .dataframe tbody tr th {\n",
       "        vertical-align: top;\n",
       "    }\n",
       "\n",
       "    .dataframe thead th {\n",
       "        text-align: right;\n",
       "    }\n",
       "</style>\n",
       "<table border=\"1\" class=\"dataframe\">\n",
       "  <thead>\n",
       "    <tr style=\"text-align: right;\">\n",
       "      <th></th>\n",
       "      <th>Aggravated_assault</th>\n",
       "      <th>Burglary</th>\n",
       "      <th>Forcible_Rape</th>\n",
       "      <th>Larceny_Theft</th>\n",
       "      <th>Murder</th>\n",
       "      <th>Property</th>\n",
       "      <th>Robbery</th>\n",
       "      <th>Vehicle_Theft</th>\n",
       "      <th>Violent</th>\n",
       "    </tr>\n",
       "    <tr>\n",
       "      <th>Year</th>\n",
       "      <th></th>\n",
       "      <th></th>\n",
       "      <th></th>\n",
       "      <th></th>\n",
       "      <th></th>\n",
       "      <th></th>\n",
       "      <th></th>\n",
       "      <th></th>\n",
       "      <th></th>\n",
       "    </tr>\n",
       "  </thead>\n",
       "  <tbody>\n",
       "    <tr>\n",
       "      <th>1960</th>\n",
       "      <td>2158520</td>\n",
       "      <td>13321100</td>\n",
       "      <td>236720</td>\n",
       "      <td>26547700</td>\n",
       "      <td>106180</td>\n",
       "      <td>45160900</td>\n",
       "      <td>1633510</td>\n",
       "      <td>5292100</td>\n",
       "      <td>4134930</td>\n",
       "    </tr>\n",
       "    <tr>\n",
       "      <th>1970</th>\n",
       "      <td>4702120</td>\n",
       "      <td>28486000</td>\n",
       "      <td>554570</td>\n",
       "      <td>53157800</td>\n",
       "      <td>192230</td>\n",
       "      <td>91383800</td>\n",
       "      <td>4159020</td>\n",
       "      <td>9739900</td>\n",
       "      <td>9607930</td>\n",
       "    </tr>\n",
       "    <tr>\n",
       "      <th>1980</th>\n",
       "      <td>7619130</td>\n",
       "      <td>33073494</td>\n",
       "      <td>865639</td>\n",
       "      <td>72040253</td>\n",
       "      <td>206439</td>\n",
       "      <td>117048900</td>\n",
       "      <td>5383109</td>\n",
       "      <td>11935411</td>\n",
       "      <td>14074328</td>\n",
       "    </tr>\n",
       "    <tr>\n",
       "      <th>1990</th>\n",
       "      <td>10568963</td>\n",
       "      <td>26750015</td>\n",
       "      <td>998827</td>\n",
       "      <td>77679366</td>\n",
       "      <td>211664</td>\n",
       "      <td>119053499</td>\n",
       "      <td>5748930</td>\n",
       "      <td>14624418</td>\n",
       "      <td>17527048</td>\n",
       "    </tr>\n",
       "    <tr>\n",
       "      <th>2000</th>\n",
       "      <td>8652124</td>\n",
       "      <td>21565176</td>\n",
       "      <td>922499</td>\n",
       "      <td>67970291</td>\n",
       "      <td>163068</td>\n",
       "      <td>100944369</td>\n",
       "      <td>4230366</td>\n",
       "      <td>11412834</td>\n",
       "      <td>13968056</td>\n",
       "    </tr>\n",
       "    <tr>\n",
       "      <th>2010</th>\n",
       "      <td>3764142</td>\n",
       "      <td>10125170</td>\n",
       "      <td>421059</td>\n",
       "      <td>30401698</td>\n",
       "      <td>72867</td>\n",
       "      <td>44095950</td>\n",
       "      <td>1749809</td>\n",
       "      <td>3569080</td>\n",
       "      <td>6072017</td>\n",
       "    </tr>\n",
       "  </tbody>\n",
       "</table>\n",
       "</div>"
      ],
      "text/plain": [
       "      Aggravated_assault  Burglary  Forcible_Rape  Larceny_Theft  Murder  \\\n",
       "Year                                                                       \n",
       "1960             2158520  13321100         236720       26547700  106180   \n",
       "1970             4702120  28486000         554570       53157800  192230   \n",
       "1980             7619130  33073494         865639       72040253  206439   \n",
       "1990            10568963  26750015         998827       77679366  211664   \n",
       "2000             8652124  21565176         922499       67970291  163068   \n",
       "2010             3764142  10125170         421059       30401698   72867   \n",
       "\n",
       "       Property  Robbery  Vehicle_Theft   Violent  \n",
       "Year                                               \n",
       "1960   45160900  1633510        5292100   4134930  \n",
       "1970   91383800  4159020        9739900   9607930  \n",
       "1980  117048900  5383109       11935411  14074328  \n",
       "1990  119053499  5748930       14624418  17527048  \n",
       "2000  100944369  4230366       11412834  13968056  \n",
       "2010   44095950  1749809        3569080   6072017  "
      ]
     },
     "execution_count": 31,
     "metadata": {},
     "output_type": "execute_result"
    }
   ],
   "source": [
    "crime[crime.columns.difference(['Population'])].groupby((crime.index.year//10)*10).sum()"
   ]
  },
  {
   "cell_type": "markdown",
   "metadata": {},
   "source": [
    "### Step 9. What is the mos dangerous decade to live in the US?"
   ]
  },
  {
   "cell_type": "code",
   "execution_count": 34,
   "metadata": {},
   "outputs": [
    {
     "data": {
      "text/plain": [
       "['1991']"
      ]
     },
     "execution_count": 34,
     "metadata": {},
     "output_type": "execute_result"
    }
   ],
   "source": [
    "crime[crime['Murder']==crime['Murder'].max()].index.year.format()"
   ]
  },
  {
   "cell_type": "code",
   "execution_count": null,
   "metadata": {},
   "outputs": [],
   "source": []
  }
 ],
 "metadata": {
  "anaconda-cloud": {},
  "kernelspec": {
   "display_name": "Python 3",
   "language": "python",
   "name": "python3"
  },
  "language_info": {
   "codemirror_mode": {
    "name": "ipython",
    "version": 3
   },
   "file_extension": ".py",
   "mimetype": "text/x-python",
   "name": "python",
   "nbconvert_exporter": "python",
   "pygments_lexer": "ipython3",
   "version": "3.7.3"
  }
 },
 "nbformat": 4,
 "nbformat_minor": 1
}
